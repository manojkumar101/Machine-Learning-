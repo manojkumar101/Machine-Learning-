{
 "cells": [
  {
   "cell_type": "code",
   "execution_count": 5,
   "metadata": {},
   "outputs": [],
   "source": [
    "import numpy as np\n",
    "\n",
    "X=np.array([[1,0,1,0],[1,1,0,1],[1,0,0,1]])\n",
    "\n",
    "y=np.array([[1],[1],[0]])\n",
    "\n",
    "def sigmoid(x):\n",
    "    return 1/(1+np.exp(-x))\n",
    "def derivative(x):\n",
    "    return x*(1-x)\n",
    "\n",
    "\n",
    "epoch=5000\n",
    "lr=0.1\n",
    "\n",
    "hidden_layer_neuron=3\n",
    "input_layer=X.shape[1]\n",
    "output_layer=1;\n",
    "\n",
    "#first weight matrix\n",
    "\n",
    "w1=np.random.uniform(size=(input_layer,hidden_layer_neuron))\n",
    "b1=np.random.uniform(size=(1,hidden_layer_neuron))\n",
    "\n",
    "\n",
    "w2=np.random.uniform(size=(hidden_layer_neuron,1))\n",
    "b2=np.random.uniform(size=(1,output_layer))"
   ]
  },
  {
   "cell_type": "code",
   "execution_count": 6,
   "metadata": {},
   "outputs": [],
   "source": [
    "for i in range(0,epoch):\n",
    "    #forward propagation\n",
    "    transfer=np.dot(X,w1)+b1\n",
    "    activation=sigmoid(transfer)\n",
    "    \n",
    "    transfer_output=np.dot(activation,w2)+b2\n",
    "    output=sigmoid(transfer_output)\n",
    "    \n",
    "    #Back-Propagation\n",
    "    E=y-output\n",
    "    error_at_output=E*derivative(output)\n",
    "    w2=w2+activation.T.dot(error_at_output)*lr\n",
    "    b2=b2+np.sum(error_at_output,axis=0,keepdims=True)*lr\n",
    "    \n",
    "    error_at_hidden=error_at_output.dot(w2.T)*derivative(activation)\n",
    "    w1=w1+X.T.dot(error_at_hidden)*lr\n",
    "    b1=b2+np.sum(error_at_hidden,axis=0,keepdims=True)*lr\n",
    "    \n",
    "    \n",
    "    \n",
    "    "
   ]
  },
  {
   "cell_type": "code",
   "execution_count": 10,
   "metadata": {},
   "outputs": [
    {
     "name": "stdout",
     "output_type": "stream",
     "text": [
      "[[ 0.00061249 -0.00030148 -0.00023279]\n",
      " [ 0.00193525 -0.00079788 -0.00123615]\n",
      " [-0.00242023  0.00107545  0.00148374]]\n"
     ]
    },
    {
     "ename": "ValueError",
     "evalue": "shapes (3,4) and (3,3) not aligned: 4 (dim 1) != 3 (dim 0)",
     "output_type": "error",
     "traceback": [
      "\u001b[1;31m---------------------------------------------------------------------------\u001b[0m",
      "\u001b[1;31mValueError\u001b[0m                                Traceback (most recent call last)",
      "\u001b[1;32m<ipython-input-10-9a547dcd23b2>\u001b[0m in \u001b[0;36m<module>\u001b[1;34m()\u001b[0m\n\u001b[0;32m      7\u001b[0m \u001b[0merror_at_hidden\u001b[0m\u001b[1;33m=\u001b[0m\u001b[0merror_at_output\u001b[0m\u001b[1;33m.\u001b[0m\u001b[0mdot\u001b[0m\u001b[1;33m(\u001b[0m\u001b[0mw2\u001b[0m\u001b[1;33m.\u001b[0m\u001b[0mT\u001b[0m\u001b[1;33m)\u001b[0m\u001b[1;33m*\u001b[0m\u001b[0mderivative\u001b[0m\u001b[1;33m(\u001b[0m\u001b[0mactivation\u001b[0m\u001b[1;33m)\u001b[0m\u001b[1;33m\u001b[0m\u001b[0m\n\u001b[0;32m      8\u001b[0m \u001b[0mprint\u001b[0m\u001b[1;33m(\u001b[0m\u001b[0merror_at_hidden\u001b[0m\u001b[1;33m)\u001b[0m\u001b[1;33m\u001b[0m\u001b[0m\n\u001b[1;32m----> 9\u001b[1;33m \u001b[0mw1\u001b[0m\u001b[1;33m=\u001b[0m\u001b[0mw1\u001b[0m\u001b[1;33m+\u001b[0m\u001b[0mnp\u001b[0m\u001b[1;33m.\u001b[0m\u001b[0mdot\u001b[0m\u001b[1;33m(\u001b[0m\u001b[0mX\u001b[0m\u001b[1;33m,\u001b[0m\u001b[0merror_at_hidden\u001b[0m\u001b[1;33m)\u001b[0m\u001b[1;33m*\u001b[0m\u001b[0mlr\u001b[0m\u001b[1;33m\u001b[0m\u001b[0m\n\u001b[0m\u001b[0;32m     10\u001b[0m \u001b[0mb1\u001b[0m\u001b[1;33m=\u001b[0m\u001b[0mb2\u001b[0m\u001b[1;33m+\u001b[0m\u001b[0mnp\u001b[0m\u001b[1;33m.\u001b[0m\u001b[0msum\u001b[0m\u001b[1;33m(\u001b[0m\u001b[0merror_at_hidden\u001b[0m\u001b[1;33m,\u001b[0m\u001b[0maxis\u001b[0m\u001b[1;33m=\u001b[0m\u001b[1;36m0\u001b[0m\u001b[1;33m,\u001b[0m\u001b[0mkeepdims\u001b[0m\u001b[1;33m=\u001b[0m\u001b[1;32mTrue\u001b[0m\u001b[1;33m)\u001b[0m\u001b[1;33m*\u001b[0m\u001b[0mlr\u001b[0m\u001b[1;33m\u001b[0m\u001b[0m\n",
      "\u001b[1;31mValueError\u001b[0m: shapes (3,4) and (3,3) not aligned: 4 (dim 1) != 3 (dim 0)"
     ]
    }
   ],
   "source": [
    " #Back-Propagation\n",
    "E=y-output\n",
    "error_at_output=E*derivative(output)\n",
    "w2=w2+activation.T.dot(error_at_output)*lr\n",
    "b2=b2+np.sum(error_at_output,axis=0,keepdims=True)*lr\n",
    "    \n",
    "error_at_hidden=error_at_output.dot(w2.T)*derivative(activation)\n",
    "print(error_at_hidden)\n",
    "w1=w1+np.dot(X,error_at_hidden)*lr\n",
    "b1=b2+np.sum(error_at_hidden,axis=0,keepdims=True)*lr"
   ]
  },
  {
   "cell_type": "code",
   "execution_count": null,
   "metadata": {},
   "outputs": [],
   "source": []
  },
  {
   "cell_type": "code",
   "execution_count": null,
   "metadata": {},
   "outputs": [],
   "source": []
  }
 ],
 "metadata": {
  "kernelspec": {
   "display_name": "Python 3",
   "language": "python",
   "name": "python3"
  },
  "language_info": {
   "codemirror_mode": {
    "name": "ipython",
    "version": 3
   },
   "file_extension": ".py",
   "mimetype": "text/x-python",
   "name": "python",
   "nbconvert_exporter": "python",
   "pygments_lexer": "ipython3",
   "version": "3.7.0"
  }
 },
 "nbformat": 4,
 "nbformat_minor": 2
}
